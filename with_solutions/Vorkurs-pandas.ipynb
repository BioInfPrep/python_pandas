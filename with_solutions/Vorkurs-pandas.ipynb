{
 "cells": [
  {
   "cell_type": "markdown",
   "metadata": {
    "toc": "true"
   },
   "source": [
    "# Introduction to the `pandas` data analysis library"
   ]
  },
  {
   "cell_type": "markdown",
   "metadata": {},
   "source": [
    "We will use a Jupyter notebook for the final Python session of the Vorkurs, and introduce the `pandas` data analysis library.\n",
    "\n",
    "Jupyter notebooks allow you to write Python code interactively in your browser, and display the code's intermediate outputs (text, tables or plots) in-place. Jupyter notebooks are structured into three kinds of cells:\n",
    "1. Markdown text (like the one you're currently reading)\n",
    "2. Code\n",
    "3. Output\n",
    "\n",
    "Code cells can be run one-by-one, as opposed to executing an entire Python program in one go. Code cells that you execute (with the `Run` button or `Ctrl+Enter`) have lasting effects: all the variables set by previously executed code cells will be available for later cells.\n",
    "\n",
    "You can edit and re-run cells freely, but keep in mind that your program's internal state depends on what you had previously run, which isn't necessarily consistent with what you see on your screen. E.g. if you execute a cell containing `a = 1`, then change it to `b = 1` and re-run it: variable `a` won't disappear, it will still be available for later cells until you restart your session.\n",
    "\n",
    "Upon the execution of a cell, the last line of the cell's code will be additionally printed and placed below the cell by default, which is a useful feature to inspect intermediate results. Try it by running this cell:"
   ]
  },
  {
   "cell_type": "code",
   "execution_count": 1,
   "metadata": {},
   "outputs": [
    {
     "name": "stdout",
     "output_type": "stream",
     "text": [
      "I can check stuff without explicit print statements like this\n"
     ]
    },
    {
     "data": {
      "text/plain": [
       "8"
      ]
     },
     "execution_count": 1,
     "metadata": {},
     "output_type": "execute_result"
    },
    {
     "name": "stdout",
     "output_type": "stream",
     "text": [
      "The history saving thread hit an unexpected error (DatabaseError('database disk image is malformed')).History will not be written to the database.\n"
     ]
    }
   ],
   "source": [
    "print(\"I can check stuff without explicit print statements like this\")\n",
    "a = 5\n",
    "b = 3\n",
    "\n",
    "a + b"
   ]
  },
  {
   "cell_type": "markdown",
   "metadata": {},
   "source": [
    "You saw that running the code cell created an output cell below it. This is how we will use Jupyter notebooks and look at our intermediate outputs.\n",
    "\n",
    "You can take a look at [Jupyter keyboard shortcuts](https://www.cheatography.com/weidadeyue/cheat-sheets/jupyter-notebook/) to help you format and interact with your notebooks efficiently. The important parts:\n",
    "\n",
    "You can insert a new cell anywhere by clicking on the left margin of a cell, and pressing `b` (for below) or `a` (for above). If the left border of a cell is blue, you are in navigation mode. If it's green, you are in editing mode. You can switch between them with `Escape` and `Enter`. You can run a code cell with `Ctrl+Enter`. In nagivation mode, you can move between cells using the `Up` or `Down` keys."
   ]
  },
  {
   "cell_type": "code",
   "execution_count": 2,
   "metadata": {},
   "outputs": [],
   "source": [
    "# Try navigating, inserting, editing and executing code cells."
   ]
  },
  {
   "cell_type": "markdown",
   "metadata": {},
   "source": [
    "## Pandas\n",
    "\n",
    "The purpose of this notebook is to give an introduction to the `pandas` data analysis library. `pandas` provides data structures and various kinds of operations for handling tabular data.\n",
    "\n",
    "The basic object types are `Series` (1-dimensional data, like a list) and `DataFrame` (2-dimensional data, like a table). These objects have a lot of fancy features that plain old Python lists, or even `numpy` arrays don't. They offer label-based indexing, slicing, grouping, aggregation, merging, reshaping, pivoting, and a host of other manipulation methods, as well as some visualization capabilities using `matplotlib` or `seaborn`. DataFrames also support pretty HTML table outputs inside Jupyter notebooks by default.\n",
    "\n",
    "Pandas has extensive online documentation, and you may find their [10 Minutes Introduction](http://pandas.pydata.org/pandas-docs/stable/10min.html) and their [tutorials](http://pandas.pydata.org/pandas-docs/stable/tutorials.html) especially useful.\n",
    "\n"
   ]
  },
  {
   "cell_type": "markdown",
   "metadata": {},
   "source": [
    "## Import pandas\n",
    "\n",
    "Conventionally `pandas` is imported under the name `pd`. There are a few other conventions such as `numpy as np` or the visualization library `seaborn as sns`."
   ]
  },
  {
   "cell_type": "code",
   "execution_count": 3,
   "metadata": {
    "run_control": {
     "frozen": false,
     "read_only": false
    }
   },
   "outputs": [],
   "source": [
    "import pandas as pd"
   ]
  },
  {
   "cell_type": "markdown",
   "metadata": {},
   "source": [
    "## Series objects"
   ]
  },
  {
   "cell_type": "markdown",
   "metadata": {},
   "source": [
    "Create a pandas `Series` object named `s` with the following data:\n",
    "\n",
    "|     |\n",
    "|-----|\n",
    "| 3.0 |\n",
    "| 1.5 |\n",
    "| 4.3 |\n",
    "| 8.2 |\n",
    "| 0.9 |\n",
    "\n",
    "Now\n",
    "* Access its first value\n",
    "* Access its last value\n",
    "* Calculate its mean and standard deviation\n",
    "* Sort it in ascending and descending order\n",
    "\n",
    "Use a separate code block for each operation. "
   ]
  },
  {
   "cell_type": "code",
   "execution_count": 4,
   "metadata": {},
   "outputs": [
    {
     "data": {
      "text/plain": [
       "0    3.0\n",
       "1    1.5\n",
       "2    4.3\n",
       "3    8.2\n",
       "4    0.9\n",
       "Name: s, dtype: float64"
      ]
     },
     "execution_count": 4,
     "metadata": {},
     "output_type": "execute_result"
    }
   ],
   "source": [
    "s = pd.Series([3.0, 1.5, 4.3, 8.2, 0.9], name='s')\n",
    "s"
   ]
  },
  {
   "cell_type": "code",
   "execution_count": 5,
   "metadata": {},
   "outputs": [
    {
     "data": {
      "text/plain": [
       "3.0"
      ]
     },
     "execution_count": 5,
     "metadata": {},
     "output_type": "execute_result"
    }
   ],
   "source": [
    "s.iloc[0]  # s.loc[0]"
   ]
  },
  {
   "cell_type": "code",
   "execution_count": 6,
   "metadata": {},
   "outputs": [
    {
     "data": {
      "text/plain": [
       "0.9"
      ]
     },
     "execution_count": 6,
     "metadata": {},
     "output_type": "execute_result"
    }
   ],
   "source": [
    "s.iloc[-1]  # s.loc[4]"
   ]
  },
  {
   "cell_type": "code",
   "execution_count": 7,
   "metadata": {},
   "outputs": [
    {
     "data": {
      "text/plain": [
       "(3.5799999999999996, 2.90292955477738)"
      ]
     },
     "execution_count": 7,
     "metadata": {},
     "output_type": "execute_result"
    }
   ],
   "source": [
    "s.mean(), s.std()"
   ]
  },
  {
   "cell_type": "code",
   "execution_count": 8,
   "metadata": {},
   "outputs": [
    {
     "data": {
      "text/plain": [
       "3    8.2\n",
       "2    4.3\n",
       "0    3.0\n",
       "1    1.5\n",
       "4    0.9\n",
       "Name: s, dtype: float64"
      ]
     },
     "execution_count": 8,
     "metadata": {},
     "output_type": "execute_result"
    }
   ],
   "source": [
    "s2 = s.sort_values(ascending=False)\n",
    "s2"
   ]
  },
  {
   "cell_type": "markdown",
   "metadata": {},
   "source": [
    "Store the sorted `Series` in variable `s2`. Notice how the index labels moved together with the values. Positional (`.iloc[]`) and label-based (`.loc[]`) access behave very differently now, try them out!"
   ]
  },
  {
   "cell_type": "code",
   "execution_count": 9,
   "metadata": {},
   "outputs": [
    {
     "data": {
      "text/plain": [
       "(8.2, 3.0)"
      ]
     },
     "execution_count": 9,
     "metadata": {},
     "output_type": "execute_result"
    }
   ],
   "source": [
    "s2.iloc[0], s2.loc[0]"
   ]
  },
  {
   "cell_type": "markdown",
   "metadata": {},
   "source": [
    "## DataFrame objects, accessing values"
   ]
  },
  {
   "cell_type": "markdown",
   "metadata": {},
   "source": [
    "Create a `DataFrame` named `df_species` with the following data:\n",
    "\n",
    "| |species |weight  |legs |\n",
    "|--------|--|---|----|\n",
    "|<b>0</b>|human |62  |2 |\n",
    "|<b>1</b>|cat   |4  |4 |\n",
    "|<b>2</b>|mouse |0.02  |4 |\n",
    "|<b>3</b>|dog   |20 |4 |\n",
    "|<b>4</b>|mole  |0.09  |4 |\n",
    "|<b>5</b>|train |200000 |0 |\n",
    "|<b>6</b>|bee   |0.0001 |6  |\n",
    "|<b>7</b>|elephant |3000 |4 |\n",
    "\n",
    "You can pass the data to the `DataFrame(...)` constructor column-by-column as a dictionary (keys: column labels, values: list of column values), or row-by-row using nested lists. In the latter case, you have to additionally specify the column labels using the `columns=` keyword argument."
   ]
  },
  {
   "cell_type": "code",
   "execution_count": 10,
   "metadata": {
    "run_control": {
     "frozen": false,
     "read_only": false
    },
    "scrolled": true
   },
   "outputs": [
    {
     "data": {
      "text/html": [
       "<div>\n",
       "<style scoped>\n",
       "    .dataframe tbody tr th:only-of-type {\n",
       "        vertical-align: middle;\n",
       "    }\n",
       "\n",
       "    .dataframe tbody tr th {\n",
       "        vertical-align: top;\n",
       "    }\n",
       "\n",
       "    .dataframe thead th {\n",
       "        text-align: right;\n",
       "    }\n",
       "</style>\n",
       "<table border=\"1\" class=\"dataframe\">\n",
       "  <thead>\n",
       "    <tr style=\"text-align: right;\">\n",
       "      <th></th>\n",
       "      <th>species</th>\n",
       "      <th>weight</th>\n",
       "      <th>legs</th>\n",
       "    </tr>\n",
       "  </thead>\n",
       "  <tbody>\n",
       "    <tr>\n",
       "      <th>0</th>\n",
       "      <td>human</td>\n",
       "      <td>62.0000</td>\n",
       "      <td>2</td>\n",
       "    </tr>\n",
       "    <tr>\n",
       "      <th>1</th>\n",
       "      <td>cat</td>\n",
       "      <td>4.0000</td>\n",
       "      <td>4</td>\n",
       "    </tr>\n",
       "    <tr>\n",
       "      <th>2</th>\n",
       "      <td>mouse</td>\n",
       "      <td>0.0200</td>\n",
       "      <td>4</td>\n",
       "    </tr>\n",
       "    <tr>\n",
       "      <th>3</th>\n",
       "      <td>dog</td>\n",
       "      <td>20.0000</td>\n",
       "      <td>4</td>\n",
       "    </tr>\n",
       "    <tr>\n",
       "      <th>4</th>\n",
       "      <td>mole</td>\n",
       "      <td>0.0900</td>\n",
       "      <td>4</td>\n",
       "    </tr>\n",
       "    <tr>\n",
       "      <th>5</th>\n",
       "      <td>train</td>\n",
       "      <td>200000.0000</td>\n",
       "      <td>0</td>\n",
       "    </tr>\n",
       "    <tr>\n",
       "      <th>6</th>\n",
       "      <td>bee</td>\n",
       "      <td>0.0001</td>\n",
       "      <td>6</td>\n",
       "    </tr>\n",
       "    <tr>\n",
       "      <th>7</th>\n",
       "      <td>elephant</td>\n",
       "      <td>3000.0000</td>\n",
       "      <td>4</td>\n",
       "    </tr>\n",
       "  </tbody>\n",
       "</table>\n",
       "</div>"
      ],
      "text/plain": [
       "    species       weight  legs\n",
       "0     human      62.0000     2\n",
       "1       cat       4.0000     4\n",
       "2     mouse       0.0200     4\n",
       "3       dog      20.0000     4\n",
       "4      mole       0.0900     4\n",
       "5     train  200000.0000     0\n",
       "6       bee       0.0001     6\n",
       "7  elephant    3000.0000     4"
      ]
     },
     "execution_count": 10,
     "metadata": {},
     "output_type": "execute_result"
    }
   ],
   "source": [
    "df_species = pd.DataFrame([\n",
    "    ['human', 62,   2],\n",
    "    ['cat'  , 4,    4],\n",
    "    ['mouse', 0.02, 4],\n",
    "    ['dog'  , 20,   4],\n",
    "    ['mole' , 0.09, 4],\n",
    "    ['train', 200000, 0],\n",
    "    ['bee'  , 0.0001, 6],\n",
    "    ['elephant', 3000, 4],\n",
    "], columns=['species', 'weight', 'legs'])\n",
    "\n",
    "# OR\n",
    "\n",
    "df_species = pd.DataFrame({\n",
    "    'species': ['human', 'cat', 'mouse', 'dog', 'mole', 'train', 'bee', 'elephant'],\n",
    "    'weight': [62, 4, 0.02, 20, 0.09, 200000, 0.0001, 3000],\n",
    "    'legs': [2, 4, 4, 4, 4, 0, 6, 4]\n",
    "})\n",
    "\n",
    "df_species"
   ]
  },
  {
   "cell_type": "markdown",
   "metadata": {},
   "source": [
    "Now, in separate cells\n",
    "* access the 3rd row of `df_species`. What type is the resulting object?\n",
    "* access the row with index `3`\n",
    "* access the column `weight`\n",
    "* access a single cell (e.g. dog's number of legs)\n",
    "* print the index and column labels\n",
    "* extract rows 2-5 into a new DataFrame (no need to save it)\n",
    "* obtain a summary table of the DataFrame with the means, standard deviations, min/max/percentiles of the numerical columns\n",
    "* add a new column `weight_in_lb` to the DataFrame containing the weights in pounds instead of kilograms"
   ]
  },
  {
   "cell_type": "code",
   "execution_count": 11,
   "metadata": {},
   "outputs": [
    {
     "name": "stdout",
     "output_type": "stream",
     "text": [
      "<class 'pandas.core.series.Series'>\n"
     ]
    },
    {
     "data": {
      "text/plain": [
       "species    mouse\n",
       "weight      0.02\n",
       "legs           4\n",
       "Name: 2, dtype: object"
      ]
     },
     "execution_count": 11,
     "metadata": {},
     "output_type": "execute_result"
    }
   ],
   "source": [
    "print(type(df_species.iloc[2]))\n",
    "df_species.iloc[2]"
   ]
  },
  {
   "cell_type": "code",
   "execution_count": 12,
   "metadata": {},
   "outputs": [
    {
     "data": {
      "text/plain": [
       "species    dog\n",
       "weight      20\n",
       "legs         4\n",
       "Name: 3, dtype: object"
      ]
     },
     "execution_count": 12,
     "metadata": {},
     "output_type": "execute_result"
    }
   ],
   "source": [
    "df_species.loc[3]"
   ]
  },
  {
   "cell_type": "code",
   "execution_count": 13,
   "metadata": {},
   "outputs": [
    {
     "data": {
      "text/plain": [
       "0        62.0000\n",
       "1         4.0000\n",
       "2         0.0200\n",
       "3        20.0000\n",
       "4         0.0900\n",
       "5    200000.0000\n",
       "6         0.0001\n",
       "7      3000.0000\n",
       "Name: weight, dtype: float64"
      ]
     },
     "execution_count": 13,
     "metadata": {},
     "output_type": "execute_result"
    }
   ],
   "source": [
    "df_species['weight']\n",
    "# OR\n",
    "df_species.loc[:, 'weight']"
   ]
  },
  {
   "cell_type": "code",
   "execution_count": 14,
   "metadata": {},
   "outputs": [
    {
     "data": {
      "text/plain": [
       "4"
      ]
     },
     "execution_count": 14,
     "metadata": {},
     "output_type": "execute_result"
    }
   ],
   "source": [
    "df_species.loc[3, 'legs']"
   ]
  },
  {
   "cell_type": "code",
   "execution_count": 15,
   "metadata": {},
   "outputs": [
    {
     "name": "stdout",
     "output_type": "stream",
     "text": [
      "RangeIndex(start=0, stop=8, step=1)\n",
      "[0, 1, 2, 3, 4, 5, 6, 7]\n",
      "\n",
      "Index(['species', 'weight', 'legs'], dtype='object')\n"
     ]
    }
   ],
   "source": [
    "print(df_species.index)\n",
    "print(df_species.index.tolist())\n",
    "print()\n",
    "print(df_species.columns)"
   ]
  },
  {
   "cell_type": "code",
   "execution_count": 16,
   "metadata": {},
   "outputs": [
    {
     "data": {
      "text/html": [
       "<div>\n",
       "<style scoped>\n",
       "    .dataframe tbody tr th:only-of-type {\n",
       "        vertical-align: middle;\n",
       "    }\n",
       "\n",
       "    .dataframe tbody tr th {\n",
       "        vertical-align: top;\n",
       "    }\n",
       "\n",
       "    .dataframe thead th {\n",
       "        text-align: right;\n",
       "    }\n",
       "</style>\n",
       "<table border=\"1\" class=\"dataframe\">\n",
       "  <thead>\n",
       "    <tr style=\"text-align: right;\">\n",
       "      <th></th>\n",
       "      <th>species</th>\n",
       "      <th>weight</th>\n",
       "      <th>legs</th>\n",
       "    </tr>\n",
       "  </thead>\n",
       "  <tbody>\n",
       "    <tr>\n",
       "      <th>1</th>\n",
       "      <td>cat</td>\n",
       "      <td>4.00</td>\n",
       "      <td>4</td>\n",
       "    </tr>\n",
       "    <tr>\n",
       "      <th>2</th>\n",
       "      <td>mouse</td>\n",
       "      <td>0.02</td>\n",
       "      <td>4</td>\n",
       "    </tr>\n",
       "    <tr>\n",
       "      <th>3</th>\n",
       "      <td>dog</td>\n",
       "      <td>20.00</td>\n",
       "      <td>4</td>\n",
       "    </tr>\n",
       "    <tr>\n",
       "      <th>4</th>\n",
       "      <td>mole</td>\n",
       "      <td>0.09</td>\n",
       "      <td>4</td>\n",
       "    </tr>\n",
       "    <tr>\n",
       "      <th>5</th>\n",
       "      <td>train</td>\n",
       "      <td>200000.00</td>\n",
       "      <td>0</td>\n",
       "    </tr>\n",
       "  </tbody>\n",
       "</table>\n",
       "</div>"
      ],
      "text/plain": [
       "  species     weight  legs\n",
       "1     cat       4.00     4\n",
       "2   mouse       0.02     4\n",
       "3     dog      20.00     4\n",
       "4    mole       0.09     4\n",
       "5   train  200000.00     0"
      ]
     },
     "execution_count": 16,
     "metadata": {},
     "output_type": "execute_result"
    }
   ],
   "source": [
    "df_species.iloc[1:6]  # position-based indexing: end NOT included\n",
    "# OR\n",
    "df_species.loc[1:5]  # label-based indexing: end IS included"
   ]
  },
  {
   "cell_type": "code",
   "execution_count": 17,
   "metadata": {},
   "outputs": [
    {
     "data": {
      "text/html": [
       "<div>\n",
       "<style scoped>\n",
       "    .dataframe tbody tr th:only-of-type {\n",
       "        vertical-align: middle;\n",
       "    }\n",
       "\n",
       "    .dataframe tbody tr th {\n",
       "        vertical-align: top;\n",
       "    }\n",
       "\n",
       "    .dataframe thead th {\n",
       "        text-align: right;\n",
       "    }\n",
       "</style>\n",
       "<table border=\"1\" class=\"dataframe\">\n",
       "  <thead>\n",
       "    <tr style=\"text-align: right;\">\n",
       "      <th></th>\n",
       "      <th>weight</th>\n",
       "      <th>legs</th>\n",
       "    </tr>\n",
       "  </thead>\n",
       "  <tbody>\n",
       "    <tr>\n",
       "      <th>count</th>\n",
       "      <td>8.000000</td>\n",
       "      <td>8.000000</td>\n",
       "    </tr>\n",
       "    <tr>\n",
       "      <th>mean</th>\n",
       "      <td>25385.763762</td>\n",
       "      <td>3.500000</td>\n",
       "    </tr>\n",
       "    <tr>\n",
       "      <th>std</th>\n",
       "      <td>70562.543935</td>\n",
       "      <td>1.772811</td>\n",
       "    </tr>\n",
       "    <tr>\n",
       "      <th>min</th>\n",
       "      <td>0.000100</td>\n",
       "      <td>0.000000</td>\n",
       "    </tr>\n",
       "    <tr>\n",
       "      <th>25%</th>\n",
       "      <td>0.072500</td>\n",
       "      <td>3.500000</td>\n",
       "    </tr>\n",
       "    <tr>\n",
       "      <th>50%</th>\n",
       "      <td>12.000000</td>\n",
       "      <td>4.000000</td>\n",
       "    </tr>\n",
       "    <tr>\n",
       "      <th>75%</th>\n",
       "      <td>796.500000</td>\n",
       "      <td>4.000000</td>\n",
       "    </tr>\n",
       "    <tr>\n",
       "      <th>max</th>\n",
       "      <td>200000.000000</td>\n",
       "      <td>6.000000</td>\n",
       "    </tr>\n",
       "  </tbody>\n",
       "</table>\n",
       "</div>"
      ],
      "text/plain": [
       "              weight      legs\n",
       "count       8.000000  8.000000\n",
       "mean    25385.763762  3.500000\n",
       "std     70562.543935  1.772811\n",
       "min         0.000100  0.000000\n",
       "25%         0.072500  3.500000\n",
       "50%        12.000000  4.000000\n",
       "75%       796.500000  4.000000\n",
       "max    200000.000000  6.000000"
      ]
     },
     "execution_count": 17,
     "metadata": {},
     "output_type": "execute_result"
    }
   ],
   "source": [
    "df_species.describe()"
   ]
  },
  {
   "cell_type": "code",
   "execution_count": 18,
   "metadata": {},
   "outputs": [],
   "source": [
    "# Series can be treated as vectors, and be multiplied, added, etc. with the usual operators\n",
    "df_species['weight_in_lb'] = df_species['weight'] * 2.2\n",
    "\n",
    "# Alternative if you don't want to do it in-place, but want to get a new DF with the inserted column:\n",
    "# df_species.assign(weight_in_lb=(df_species['weight'] * 2.2))"
   ]
  },
  {
   "cell_type": "markdown",
   "metadata": {},
   "source": [
    "## Data Import"
   ]
  },
  {
   "cell_type": "markdown",
   "metadata": {},
   "source": [
    "Import the `df_characters.csv` file into a DataFrame named `df`, and display it:"
   ]
  },
  {
   "cell_type": "code",
   "execution_count": 19,
   "metadata": {
    "run_control": {
     "frozen": false,
     "read_only": false
    }
   },
   "outputs": [
    {
     "data": {
      "text/html": [
       "<div>\n",
       "<style scoped>\n",
       "    .dataframe tbody tr th:only-of-type {\n",
       "        vertical-align: middle;\n",
       "    }\n",
       "\n",
       "    .dataframe tbody tr th {\n",
       "        vertical-align: top;\n",
       "    }\n",
       "\n",
       "    .dataframe thead th {\n",
       "        text-align: right;\n",
       "    }\n",
       "</style>\n",
       "<table border=\"1\" class=\"dataframe\">\n",
       "  <thead>\n",
       "    <tr style=\"text-align: right;\">\n",
       "      <th></th>\n",
       "      <th>name</th>\n",
       "      <th>country</th>\n",
       "      <th>species</th>\n",
       "      <th>weight</th>\n",
       "      <th>birthyear</th>\n",
       "    </tr>\n",
       "  </thead>\n",
       "  <tbody>\n",
       "    <tr>\n",
       "      <th>0</th>\n",
       "      <td>Pumuckl</td>\n",
       "      <td>GER</td>\n",
       "      <td>kobold</td>\n",
       "      <td>2.0000</td>\n",
       "      <td>1982</td>\n",
       "    </tr>\n",
       "    <tr>\n",
       "      <th>1</th>\n",
       "      <td>Tom</td>\n",
       "      <td>USA</td>\n",
       "      <td>cat</td>\n",
       "      <td>3.0000</td>\n",
       "      <td>1940</td>\n",
       "    </tr>\n",
       "    <tr>\n",
       "      <th>2</th>\n",
       "      <td>Jerry</td>\n",
       "      <td>USA</td>\n",
       "      <td>mouse</td>\n",
       "      <td>0.3000</td>\n",
       "      <td>1940</td>\n",
       "    </tr>\n",
       "    <tr>\n",
       "      <th>3</th>\n",
       "      <td>Mickey Mouse</td>\n",
       "      <td>USA</td>\n",
       "      <td>mouse</td>\n",
       "      <td>10.0000</td>\n",
       "      <td>1928</td>\n",
       "    </tr>\n",
       "    <tr>\n",
       "      <th>4</th>\n",
       "      <td>Asterix</td>\n",
       "      <td>FRA</td>\n",
       "      <td>human</td>\n",
       "      <td>58.0000</td>\n",
       "      <td>1959</td>\n",
       "    </tr>\n",
       "    <tr>\n",
       "      <th>5</th>\n",
       "      <td>Obelix</td>\n",
       "      <td>FRA</td>\n",
       "      <td>human</td>\n",
       "      <td>180.0000</td>\n",
       "      <td>1959</td>\n",
       "    </tr>\n",
       "    <tr>\n",
       "      <th>6</th>\n",
       "      <td>Hello Kitty</td>\n",
       "      <td>JPN</td>\n",
       "      <td>cat</td>\n",
       "      <td>0.7000</td>\n",
       "      <td>1974</td>\n",
       "    </tr>\n",
       "    <tr>\n",
       "      <th>7</th>\n",
       "      <td>Songoku</td>\n",
       "      <td>JPN</td>\n",
       "      <td>human</td>\n",
       "      <td>62.0000</td>\n",
       "      <td>1984</td>\n",
       "    </tr>\n",
       "    <tr>\n",
       "      <th>8</th>\n",
       "      <td>Maulwurf Krtek</td>\n",
       "      <td>CZE</td>\n",
       "      <td>mole</td>\n",
       "      <td>0.1000</td>\n",
       "      <td>1956</td>\n",
       "    </tr>\n",
       "    <tr>\n",
       "      <th>9</th>\n",
       "      <td>Tintin</td>\n",
       "      <td>BEL</td>\n",
       "      <td>human</td>\n",
       "      <td>54.0000</td>\n",
       "      <td>1929</td>\n",
       "    </tr>\n",
       "    <tr>\n",
       "      <th>10</th>\n",
       "      <td>Thomas</td>\n",
       "      <td>GBR</td>\n",
       "      <td>train</td>\n",
       "      <td>115000.0000</td>\n",
       "      <td>1984</td>\n",
       "    </tr>\n",
       "    <tr>\n",
       "      <th>11</th>\n",
       "      <td>Biene Maja</td>\n",
       "      <td>GER</td>\n",
       "      <td>bee</td>\n",
       "      <td>0.0001</td>\n",
       "      <td>1975</td>\n",
       "    </tr>\n",
       "    <tr>\n",
       "      <th>12</th>\n",
       "      <td>Gary</td>\n",
       "      <td>USA</td>\n",
       "      <td>snail</td>\n",
       "      <td>0.0500</td>\n",
       "      <td>1999</td>\n",
       "    </tr>\n",
       "    <tr>\n",
       "      <th>13</th>\n",
       "      <td>Babar</td>\n",
       "      <td>CAN</td>\n",
       "      <td>elephant</td>\n",
       "      <td>2000.0000</td>\n",
       "      <td>1989</td>\n",
       "    </tr>\n",
       "    <tr>\n",
       "      <th>14</th>\n",
       "      <td>Benjamin Blümchen</td>\n",
       "      <td>GER</td>\n",
       "      <td>elephant</td>\n",
       "      <td>800.0000</td>\n",
       "      <td>1988</td>\n",
       "    </tr>\n",
       "    <tr>\n",
       "      <th>15</th>\n",
       "      <td>Prinzessin Lillifee</td>\n",
       "      <td>GER</td>\n",
       "      <td>human</td>\n",
       "      <td>30.0000</td>\n",
       "      <td>2004</td>\n",
       "    </tr>\n",
       "  </tbody>\n",
       "</table>\n",
       "</div>"
      ],
      "text/plain": [
       "                   name country   species       weight  birthyear\n",
       "0               Pumuckl     GER    kobold       2.0000       1982\n",
       "1                   Tom     USA       cat       3.0000       1940\n",
       "2                 Jerry     USA     mouse       0.3000       1940\n",
       "3          Mickey Mouse     USA     mouse      10.0000       1928\n",
       "4               Asterix     FRA     human      58.0000       1959\n",
       "5                Obelix     FRA     human     180.0000       1959\n",
       "6           Hello Kitty     JPN       cat       0.7000       1974\n",
       "7               Songoku     JPN     human      62.0000       1984\n",
       "8        Maulwurf Krtek     CZE      mole       0.1000       1956\n",
       "9                Tintin     BEL     human      54.0000       1929\n",
       "10               Thomas     GBR     train  115000.0000       1984\n",
       "11           Biene Maja     GER       bee       0.0001       1975\n",
       "12                 Gary     USA     snail       0.0500       1999\n",
       "13                Babar     CAN  elephant    2000.0000       1989\n",
       "14    Benjamin Blümchen     GER  elephant     800.0000       1988\n",
       "15  Prinzessin Lillifee     GER     human      30.0000       2004"
      ]
     },
     "execution_count": 19,
     "metadata": {},
     "output_type": "execute_result"
    }
   ],
   "source": [
    "df = pd.read_csv('../example_data/df_characters.csv')\n",
    "df"
   ]
  },
  {
   "cell_type": "markdown",
   "metadata": {},
   "source": [
    "Now import the file `df_countries.tsv` into a pandas DataFrame as `df_countries`. Do you need to change any parameters of the importing function?"
   ]
  },
  {
   "cell_type": "code",
   "execution_count": 20,
   "metadata": {
    "run_control": {
     "frozen": false,
     "read_only": false
    }
   },
   "outputs": [
    {
     "data": {
      "text/html": [
       "<div>\n",
       "<style scoped>\n",
       "    .dataframe tbody tr th:only-of-type {\n",
       "        vertical-align: middle;\n",
       "    }\n",
       "\n",
       "    .dataframe tbody tr th {\n",
       "        vertical-align: top;\n",
       "    }\n",
       "\n",
       "    .dataframe thead th {\n",
       "        text-align: right;\n",
       "    }\n",
       "</style>\n",
       "<table border=\"1\" class=\"dataframe\">\n",
       "  <thead>\n",
       "    <tr style=\"text-align: right;\">\n",
       "      <th></th>\n",
       "      <th>code</th>\n",
       "      <th>country_name</th>\n",
       "      <th>continent</th>\n",
       "      <th>population</th>\n",
       "    </tr>\n",
       "  </thead>\n",
       "  <tbody>\n",
       "    <tr>\n",
       "      <th>0</th>\n",
       "      <td>GER</td>\n",
       "      <td>Germany</td>\n",
       "      <td>Europe</td>\n",
       "      <td>83.0</td>\n",
       "    </tr>\n",
       "    <tr>\n",
       "      <th>1</th>\n",
       "      <td>USA</td>\n",
       "      <td>United States of America</td>\n",
       "      <td>America</td>\n",
       "      <td>327.0</td>\n",
       "    </tr>\n",
       "    <tr>\n",
       "      <th>2</th>\n",
       "      <td>FRA</td>\n",
       "      <td>France</td>\n",
       "      <td>Europe</td>\n",
       "      <td>67.0</td>\n",
       "    </tr>\n",
       "    <tr>\n",
       "      <th>3</th>\n",
       "      <td>JPN</td>\n",
       "      <td>Japan</td>\n",
       "      <td>Asia</td>\n",
       "      <td>127.0</td>\n",
       "    </tr>\n",
       "    <tr>\n",
       "      <th>4</th>\n",
       "      <td>CZE</td>\n",
       "      <td>Czech Republic</td>\n",
       "      <td>Europe</td>\n",
       "      <td>10.5</td>\n",
       "    </tr>\n",
       "    <tr>\n",
       "      <th>5</th>\n",
       "      <td>BEL</td>\n",
       "      <td>Belgium</td>\n",
       "      <td>Europe</td>\n",
       "      <td>11.3</td>\n",
       "    </tr>\n",
       "    <tr>\n",
       "      <th>6</th>\n",
       "      <td>GBR</td>\n",
       "      <td>United Kingdom</td>\n",
       "      <td>Europe</td>\n",
       "      <td>66.0</td>\n",
       "    </tr>\n",
       "    <tr>\n",
       "      <th>7</th>\n",
       "      <td>CHN</td>\n",
       "      <td>China</td>\n",
       "      <td>Asia</td>\n",
       "      <td>1386.0</td>\n",
       "    </tr>\n",
       "    <tr>\n",
       "      <th>8</th>\n",
       "      <td>CAN</td>\n",
       "      <td>Canada</td>\n",
       "      <td>America</td>\n",
       "      <td>37.0</td>\n",
       "    </tr>\n",
       "    <tr>\n",
       "      <th>9</th>\n",
       "      <td>BRA</td>\n",
       "      <td>Brazil</td>\n",
       "      <td>America</td>\n",
       "      <td>210.0</td>\n",
       "    </tr>\n",
       "  </tbody>\n",
       "</table>\n",
       "</div>"
      ],
      "text/plain": [
       "  code              country_name continent  population\n",
       "0  GER                   Germany    Europe        83.0\n",
       "1  USA  United States of America   America       327.0\n",
       "2  FRA                    France    Europe        67.0\n",
       "3  JPN                     Japan      Asia       127.0\n",
       "4  CZE            Czech Republic    Europe        10.5\n",
       "5  BEL                   Belgium    Europe        11.3\n",
       "6  GBR            United Kingdom    Europe        66.0\n",
       "7  CHN                     China      Asia      1386.0\n",
       "8  CAN                    Canada   America        37.0\n",
       "9  BRA                    Brazil   America       210.0"
      ]
     },
     "execution_count": 20,
     "metadata": {},
     "output_type": "execute_result"
    }
   ],
   "source": [
    "df_countries = pd.read_csv('../example_data/df_countries.tsv', sep='\\t')\n",
    "df_countries"
   ]
  },
  {
   "cell_type": "markdown",
   "metadata": {},
   "source": [
    "## DataFrame filtering\n",
    "\n",
    "The DataFrame access method `.loc[]` can take:\n",
    "* individual index labels (as seen previously)\n",
    "* lists of index labels\n",
    "* slices in the `beginning:end` format (also seen previously)\n",
    "* boolean valued `Series` objects, where only labels with `True` value are kept\n",
    "\n",
    "For the upcoming task, the last method will be especially useful. Using the cartoon character DataFrame `df`, filter them for the following criteria (separately) and display the results:\n",
    "\n",
    "* German characters\n",
    "* Characters born after 1970\n",
    "* Human characters weighing <60 kg\n",
    "\n",
    "Tips: You can perform boolean comparisons for an entire `Series` with the usual `>`, `<`, `==`, `!=` etc operators. You can do elementwise logical operations between two conforming `Series` objects using the `&` or `|` operators."
   ]
  },
  {
   "cell_type": "code",
   "execution_count": 21,
   "metadata": {},
   "outputs": [
    {
     "data": {
      "text/html": [
       "<div>\n",
       "<style scoped>\n",
       "    .dataframe tbody tr th:only-of-type {\n",
       "        vertical-align: middle;\n",
       "    }\n",
       "\n",
       "    .dataframe tbody tr th {\n",
       "        vertical-align: top;\n",
       "    }\n",
       "\n",
       "    .dataframe thead th {\n",
       "        text-align: right;\n",
       "    }\n",
       "</style>\n",
       "<table border=\"1\" class=\"dataframe\">\n",
       "  <thead>\n",
       "    <tr style=\"text-align: right;\">\n",
       "      <th></th>\n",
       "      <th>name</th>\n",
       "      <th>country</th>\n",
       "      <th>species</th>\n",
       "      <th>weight</th>\n",
       "      <th>birthyear</th>\n",
       "    </tr>\n",
       "  </thead>\n",
       "  <tbody>\n",
       "    <tr>\n",
       "      <th>0</th>\n",
       "      <td>Pumuckl</td>\n",
       "      <td>GER</td>\n",
       "      <td>kobold</td>\n",
       "      <td>2.0000</td>\n",
       "      <td>1982</td>\n",
       "    </tr>\n",
       "    <tr>\n",
       "      <th>11</th>\n",
       "      <td>Biene Maja</td>\n",
       "      <td>GER</td>\n",
       "      <td>bee</td>\n",
       "      <td>0.0001</td>\n",
       "      <td>1975</td>\n",
       "    </tr>\n",
       "    <tr>\n",
       "      <th>14</th>\n",
       "      <td>Benjamin Blümchen</td>\n",
       "      <td>GER</td>\n",
       "      <td>elephant</td>\n",
       "      <td>800.0000</td>\n",
       "      <td>1988</td>\n",
       "    </tr>\n",
       "    <tr>\n",
       "      <th>15</th>\n",
       "      <td>Prinzessin Lillifee</td>\n",
       "      <td>GER</td>\n",
       "      <td>human</td>\n",
       "      <td>30.0000</td>\n",
       "      <td>2004</td>\n",
       "    </tr>\n",
       "  </tbody>\n",
       "</table>\n",
       "</div>"
      ],
      "text/plain": [
       "                   name country   species    weight  birthyear\n",
       "0               Pumuckl     GER    kobold    2.0000       1982\n",
       "11           Biene Maja     GER       bee    0.0001       1975\n",
       "14    Benjamin Blümchen     GER  elephant  800.0000       1988\n",
       "15  Prinzessin Lillifee     GER     human   30.0000       2004"
      ]
     },
     "execution_count": 21,
     "metadata": {},
     "output_type": "execute_result"
    }
   ],
   "source": [
    "df.loc[df['country']=='GER']\n",
    "\n",
    "# Some may do it without loc:\n",
    "df[df['country']=='GER']\n",
    "# Direct brackets are \"smart\" and will check whether the passed Series index matches rows or columns.\n",
    "# Both are fine, although .loc[] is more explicit."
   ]
  },
  {
   "cell_type": "code",
   "execution_count": 22,
   "metadata": {},
   "outputs": [
    {
     "data": {
      "text/html": [
       "<div>\n",
       "<style scoped>\n",
       "    .dataframe tbody tr th:only-of-type {\n",
       "        vertical-align: middle;\n",
       "    }\n",
       "\n",
       "    .dataframe tbody tr th {\n",
       "        vertical-align: top;\n",
       "    }\n",
       "\n",
       "    .dataframe thead th {\n",
       "        text-align: right;\n",
       "    }\n",
       "</style>\n",
       "<table border=\"1\" class=\"dataframe\">\n",
       "  <thead>\n",
       "    <tr style=\"text-align: right;\">\n",
       "      <th></th>\n",
       "      <th>name</th>\n",
       "      <th>country</th>\n",
       "      <th>species</th>\n",
       "      <th>weight</th>\n",
       "      <th>birthyear</th>\n",
       "    </tr>\n",
       "  </thead>\n",
       "  <tbody>\n",
       "    <tr>\n",
       "      <th>4</th>\n",
       "      <td>Asterix</td>\n",
       "      <td>FRA</td>\n",
       "      <td>human</td>\n",
       "      <td>58.0</td>\n",
       "      <td>1959</td>\n",
       "    </tr>\n",
       "    <tr>\n",
       "      <th>9</th>\n",
       "      <td>Tintin</td>\n",
       "      <td>BEL</td>\n",
       "      <td>human</td>\n",
       "      <td>54.0</td>\n",
       "      <td>1929</td>\n",
       "    </tr>\n",
       "    <tr>\n",
       "      <th>15</th>\n",
       "      <td>Prinzessin Lillifee</td>\n",
       "      <td>GER</td>\n",
       "      <td>human</td>\n",
       "      <td>30.0</td>\n",
       "      <td>2004</td>\n",
       "    </tr>\n",
       "  </tbody>\n",
       "</table>\n",
       "</div>"
      ],
      "text/plain": [
       "                   name country species  weight  birthyear\n",
       "4               Asterix     FRA   human    58.0       1959\n",
       "9                Tintin     BEL   human    54.0       1929\n",
       "15  Prinzessin Lillifee     GER   human    30.0       2004"
      ]
     },
     "execution_count": 22,
     "metadata": {},
     "output_type": "execute_result"
    }
   ],
   "source": [
    "df.loc[(df.species=='human') & (df.weight < 60)]\n",
    "\n",
    "# You can show the query function at this point:\n",
    "\n",
    "df.query('species==\"human\" & weight < 60')"
   ]
  },
  {
   "cell_type": "markdown",
   "metadata": {},
   "source": [
    "Introduce a new column named `age` based on the characters' birthdates. Answer the following questions:\n",
    "\n",
    "* What is the average age of the characters?\n",
    "* Who is the youngest German character?"
   ]
  },
  {
   "cell_type": "code",
   "execution_count": 23,
   "metadata": {},
   "outputs": [],
   "source": [
    "df['age'] = 2020 - df['birthyear']"
   ]
  },
  {
   "cell_type": "code",
   "execution_count": 24,
   "metadata": {},
   "outputs": [
    {
     "data": {
      "text/plain": [
       "32.75"
      ]
     },
     "execution_count": 24,
     "metadata": {},
     "output_type": "execute_result"
    }
   ],
   "source": [
    "df.loc[df['country'] == 'GER']['age'].mean()"
   ]
  },
  {
   "cell_type": "code",
   "execution_count": 25,
   "metadata": {},
   "outputs": [
    {
     "data": {
      "text/html": [
       "<div>\n",
       "<style scoped>\n",
       "    .dataframe tbody tr th:only-of-type {\n",
       "        vertical-align: middle;\n",
       "    }\n",
       "\n",
       "    .dataframe tbody tr th {\n",
       "        vertical-align: top;\n",
       "    }\n",
       "\n",
       "    .dataframe thead th {\n",
       "        text-align: right;\n",
       "    }\n",
       "</style>\n",
       "<table border=\"1\" class=\"dataframe\">\n",
       "  <thead>\n",
       "    <tr style=\"text-align: right;\">\n",
       "      <th></th>\n",
       "      <th>name</th>\n",
       "      <th>country</th>\n",
       "      <th>species</th>\n",
       "      <th>weight</th>\n",
       "      <th>birthyear</th>\n",
       "      <th>age</th>\n",
       "    </tr>\n",
       "  </thead>\n",
       "  <tbody>\n",
       "    <tr>\n",
       "      <th>15</th>\n",
       "      <td>Prinzessin Lillifee</td>\n",
       "      <td>GER</td>\n",
       "      <td>human</td>\n",
       "      <td>30.0</td>\n",
       "      <td>2004</td>\n",
       "      <td>16</td>\n",
       "    </tr>\n",
       "  </tbody>\n",
       "</table>\n",
       "</div>"
      ],
      "text/plain": [
       "                   name country species  weight  birthyear  age\n",
       "15  Prinzessin Lillifee     GER   human    30.0       2004   16"
      ]
     },
     "execution_count": 25,
     "metadata": {},
     "output_type": "execute_result"
    }
   ],
   "source": [
    "df.loc[df['country']=='GER'].sort_values('age').iloc[0]\n",
    "\n",
    "# OR\n",
    "\n",
    "df2 = df.query('country == \"GER\"')\n",
    "df2.loc[df2['age'].idxmin()]\n",
    "df2.loc[df2['age'] == df2['age'].min()]"
   ]
  },
  {
   "cell_type": "markdown",
   "metadata": {},
   "source": [
    "## DataFrame aggregation\n",
    "\n",
    "Using the same DataFrame `df`\n",
    "* Count the number of characters from each country\n",
    "* Calculate the average weight and age of characters by species\n",
    "* List the heaviest characters per country"
   ]
  },
  {
   "cell_type": "code",
   "execution_count": 26,
   "metadata": {},
   "outputs": [
    {
     "data": {
      "text/plain": [
       "country\n",
       "BEL    1\n",
       "CAN    1\n",
       "CZE    1\n",
       "FRA    2\n",
       "GBR    1\n",
       "GER    4\n",
       "JPN    2\n",
       "USA    4\n",
       "dtype: int64"
      ]
     },
     "execution_count": 26,
     "metadata": {},
     "output_type": "execute_result"
    }
   ],
   "source": [
    "df.country.value_counts()\n",
    "\n",
    "# OR\n",
    "\n",
    "df.groupby('country').size()\n",
    "\n",
    "# notice that the Series index labels are the group keys (country codes) instead of integers."
   ]
  },
  {
   "cell_type": "code",
   "execution_count": 27,
   "metadata": {},
   "outputs": [
    {
     "data": {
      "text/html": [
       "<div>\n",
       "<style scoped>\n",
       "    .dataframe tbody tr th:only-of-type {\n",
       "        vertical-align: middle;\n",
       "    }\n",
       "\n",
       "    .dataframe tbody tr th {\n",
       "        vertical-align: top;\n",
       "    }\n",
       "\n",
       "    .dataframe thead th {\n",
       "        text-align: right;\n",
       "    }\n",
       "</style>\n",
       "<table border=\"1\" class=\"dataframe\">\n",
       "  <thead>\n",
       "    <tr style=\"text-align: right;\">\n",
       "      <th></th>\n",
       "      <th>weight</th>\n",
       "      <th>age</th>\n",
       "    </tr>\n",
       "    <tr>\n",
       "      <th>species</th>\n",
       "      <th></th>\n",
       "      <th></th>\n",
       "    </tr>\n",
       "  </thead>\n",
       "  <tbody>\n",
       "    <tr>\n",
       "      <th>bee</th>\n",
       "      <td>0.0001</td>\n",
       "      <td>45.0</td>\n",
       "    </tr>\n",
       "    <tr>\n",
       "      <th>cat</th>\n",
       "      <td>1.8500</td>\n",
       "      <td>63.0</td>\n",
       "    </tr>\n",
       "    <tr>\n",
       "      <th>elephant</th>\n",
       "      <td>1400.0000</td>\n",
       "      <td>31.5</td>\n",
       "    </tr>\n",
       "    <tr>\n",
       "      <th>human</th>\n",
       "      <td>76.8000</td>\n",
       "      <td>53.0</td>\n",
       "    </tr>\n",
       "    <tr>\n",
       "      <th>kobold</th>\n",
       "      <td>2.0000</td>\n",
       "      <td>38.0</td>\n",
       "    </tr>\n",
       "    <tr>\n",
       "      <th>mole</th>\n",
       "      <td>0.1000</td>\n",
       "      <td>64.0</td>\n",
       "    </tr>\n",
       "    <tr>\n",
       "      <th>mouse</th>\n",
       "      <td>5.1500</td>\n",
       "      <td>86.0</td>\n",
       "    </tr>\n",
       "    <tr>\n",
       "      <th>snail</th>\n",
       "      <td>0.0500</td>\n",
       "      <td>21.0</td>\n",
       "    </tr>\n",
       "    <tr>\n",
       "      <th>train</th>\n",
       "      <td>115000.0000</td>\n",
       "      <td>36.0</td>\n",
       "    </tr>\n",
       "  </tbody>\n",
       "</table>\n",
       "</div>"
      ],
      "text/plain": [
       "               weight   age\n",
       "species                    \n",
       "bee            0.0001  45.0\n",
       "cat            1.8500  63.0\n",
       "elephant    1400.0000  31.5\n",
       "human         76.8000  53.0\n",
       "kobold         2.0000  38.0\n",
       "mole           0.1000  64.0\n",
       "mouse          5.1500  86.0\n",
       "snail          0.0500  21.0\n",
       "train     115000.0000  36.0"
      ]
     },
     "execution_count": 27,
     "metadata": {},
     "output_type": "execute_result"
    }
   ],
   "source": [
    "df.groupby('species').mean()[['weight', 'age']]\n",
    "# Same thing, DF index labels are group keys now."
   ]
  },
  {
   "cell_type": "code",
   "execution_count": 28,
   "metadata": {},
   "outputs": [
    {
     "data": {
      "text/html": [
       "<div>\n",
       "<style scoped>\n",
       "    .dataframe tbody tr th:only-of-type {\n",
       "        vertical-align: middle;\n",
       "    }\n",
       "\n",
       "    .dataframe tbody tr th {\n",
       "        vertical-align: top;\n",
       "    }\n",
       "\n",
       "    .dataframe thead th {\n",
       "        text-align: right;\n",
       "    }\n",
       "</style>\n",
       "<table border=\"1\" class=\"dataframe\">\n",
       "  <thead>\n",
       "    <tr style=\"text-align: right;\">\n",
       "      <th></th>\n",
       "      <th>name</th>\n",
       "      <th>country</th>\n",
       "      <th>species</th>\n",
       "      <th>weight</th>\n",
       "      <th>birthyear</th>\n",
       "      <th>age</th>\n",
       "    </tr>\n",
       "    <tr>\n",
       "      <th>country</th>\n",
       "      <th></th>\n",
       "      <th></th>\n",
       "      <th></th>\n",
       "      <th></th>\n",
       "      <th></th>\n",
       "      <th></th>\n",
       "    </tr>\n",
       "  </thead>\n",
       "  <tbody>\n",
       "    <tr>\n",
       "      <th>BEL</th>\n",
       "      <td>Tintin</td>\n",
       "      <td>BEL</td>\n",
       "      <td>human</td>\n",
       "      <td>54.0</td>\n",
       "      <td>1929</td>\n",
       "      <td>91</td>\n",
       "    </tr>\n",
       "    <tr>\n",
       "      <th>CAN</th>\n",
       "      <td>Babar</td>\n",
       "      <td>CAN</td>\n",
       "      <td>elephant</td>\n",
       "      <td>2000.0</td>\n",
       "      <td>1989</td>\n",
       "      <td>31</td>\n",
       "    </tr>\n",
       "    <tr>\n",
       "      <th>CZE</th>\n",
       "      <td>Maulwurf Krtek</td>\n",
       "      <td>CZE</td>\n",
       "      <td>mole</td>\n",
       "      <td>0.1</td>\n",
       "      <td>1956</td>\n",
       "      <td>64</td>\n",
       "    </tr>\n",
       "    <tr>\n",
       "      <th>FRA</th>\n",
       "      <td>Obelix</td>\n",
       "      <td>FRA</td>\n",
       "      <td>human</td>\n",
       "      <td>180.0</td>\n",
       "      <td>1959</td>\n",
       "      <td>61</td>\n",
       "    </tr>\n",
       "    <tr>\n",
       "      <th>GBR</th>\n",
       "      <td>Thomas</td>\n",
       "      <td>GBR</td>\n",
       "      <td>train</td>\n",
       "      <td>115000.0</td>\n",
       "      <td>1984</td>\n",
       "      <td>36</td>\n",
       "    </tr>\n",
       "    <tr>\n",
       "      <th>GER</th>\n",
       "      <td>Benjamin Blümchen</td>\n",
       "      <td>GER</td>\n",
       "      <td>elephant</td>\n",
       "      <td>800.0</td>\n",
       "      <td>1988</td>\n",
       "      <td>32</td>\n",
       "    </tr>\n",
       "    <tr>\n",
       "      <th>JPN</th>\n",
       "      <td>Songoku</td>\n",
       "      <td>JPN</td>\n",
       "      <td>human</td>\n",
       "      <td>62.0</td>\n",
       "      <td>1984</td>\n",
       "      <td>36</td>\n",
       "    </tr>\n",
       "    <tr>\n",
       "      <th>USA</th>\n",
       "      <td>Mickey Mouse</td>\n",
       "      <td>USA</td>\n",
       "      <td>mouse</td>\n",
       "      <td>10.0</td>\n",
       "      <td>1928</td>\n",
       "      <td>92</td>\n",
       "    </tr>\n",
       "  </tbody>\n",
       "</table>\n",
       "</div>"
      ],
      "text/plain": [
       "                      name country   species    weight  birthyear  age\n",
       "country                                                               \n",
       "BEL                 Tintin     BEL     human      54.0       1929   91\n",
       "CAN                  Babar     CAN  elephant    2000.0       1989   31\n",
       "CZE         Maulwurf Krtek     CZE      mole       0.1       1956   64\n",
       "FRA                 Obelix     FRA     human     180.0       1959   61\n",
       "GBR                 Thomas     GBR     train  115000.0       1984   36\n",
       "GER      Benjamin Blümchen     GER  elephant     800.0       1988   32\n",
       "JPN                Songoku     JPN     human      62.0       1984   36\n",
       "USA           Mickey Mouse     USA     mouse      10.0       1928   92"
      ]
     },
     "execution_count": 28,
     "metadata": {},
     "output_type": "execute_result"
    }
   ],
   "source": [
    "df.sort_values('weight', ascending=False).groupby('country').first()\n",
    "\n",
    "# OR\n",
    "\n",
    "heaviest_in_country = df.groupby('country').weight.idxmax()\n",
    "df.loc[heaviest_in_country]\n",
    "\n",
    "# OR\n",
    "\n",
    "is_heaviest_of_country = df.groupby('country').weight.transform(max) == df.weight\n",
    "df.loc[is_heaviest_of_country]\n",
    "\n",
    "# OR\n",
    "\n",
    "def get_heaviest(input_df):\n",
    "    return input_df.sort_values('weight').iloc[-1]\n",
    "df.groupby('country').apply(get_heaviest)"
   ]
  },
  {
   "cell_type": "markdown",
   "metadata": {},
   "source": [
    "## Merging DataFrames\n",
    "\n",
    "By combining information from the DataFrames above we can try to answer more complex queries. For example, the number of legs for a given character isn't stored in the `df` DataFrame, but it is available in the `df_species` DataFrame if we look up the corresponding entry of the character's species. If we could combine the two into a single DataFrame, we could create queries using character-specific **and** species-specific data at the same time.\n",
    "\n",
    "Combining tables based on shared keys is called merging. Pandas allows you to do it with either the function `pd.merge` or as a DataFrame method `df.merge`. All you have to do is specify the two DataFrames that you want to merge (the first one is already implied if you use it as a method) and the column label(s) that you want to merge them on.\n",
    "\n",
    "Merge `df` and `df_species` into a new DataFrame named `dfm` and answer the following questions:\n",
    "\n",
    "* What is the average age of four-legged characters?"
   ]
  },
  {
   "cell_type": "code",
   "execution_count": 29,
   "metadata": {},
   "outputs": [
    {
     "data": {
      "text/plain": [
       "60.714285714285715"
      ]
     },
     "execution_count": 29,
     "metadata": {},
     "output_type": "execute_result"
    }
   ],
   "source": [
    "dfm = pd.merge(df, df_species, on='species')\n",
    "# OR\n",
    "dfm = df.merge(df_species, on='species')\n",
    "\n",
    "\n",
    "dfm.loc[dfm['legs']==4]['age'].mean()"
   ]
  },
  {
   "cell_type": "markdown",
   "metadata": {},
   "source": [
    "* What is the average weight of four-legged characters?\n",
    "\n",
    "Although the question sounds nearly identical to the previous one, you may notice that something happened to your original character `weight` column. Since the column name was contained in both DataFrames, they had to be renamed during the merge to avoid a collision. You can control how to rename them with the `suffixes` keyword argument. We suggest that you set them to `_indiv` and `_species` so you can distinguish `weight_indiv` (the character's weight) from `weight_species` (their species' typical weight)."
   ]
  },
  {
   "cell_type": "code",
   "execution_count": 30,
   "metadata": {},
   "outputs": [
    {
     "data": {
      "text/plain": [
       "402.0142857142857"
      ]
     },
     "execution_count": 30,
     "metadata": {},
     "output_type": "execute_result"
    }
   ],
   "source": [
    "dfm = df.merge(df_species, on='species', suffixes=['_indiv', '_species'])\n",
    "dfm.loc[dfm['legs']==4]['weight_indiv'].mean()"
   ]
  },
  {
   "cell_type": "markdown",
   "metadata": {},
   "source": [
    "* Has any character gone missing during the merge?\n",
    "\n",
    "Why is that? How could you ensure that they aren't thrown out? Hint: the `merge` function/method has a keyword argument `how`. You can either go back to the cell where you created `dfm` and update it, or you can overwrite `dfm` here."
   ]
  },
  {
   "cell_type": "code",
   "execution_count": 31,
   "metadata": {},
   "outputs": [
    {
     "data": {
      "text/html": [
       "<div>\n",
       "<style scoped>\n",
       "    .dataframe tbody tr th:only-of-type {\n",
       "        vertical-align: middle;\n",
       "    }\n",
       "\n",
       "    .dataframe tbody tr th {\n",
       "        vertical-align: top;\n",
       "    }\n",
       "\n",
       "    .dataframe thead th {\n",
       "        text-align: right;\n",
       "    }\n",
       "</style>\n",
       "<table border=\"1\" class=\"dataframe\">\n",
       "  <thead>\n",
       "    <tr style=\"text-align: right;\">\n",
       "      <th></th>\n",
       "      <th>name</th>\n",
       "      <th>country</th>\n",
       "      <th>species</th>\n",
       "      <th>weight_indiv</th>\n",
       "      <th>birthyear</th>\n",
       "      <th>age</th>\n",
       "      <th>weight_species</th>\n",
       "      <th>legs</th>\n",
       "      <th>weight_in_lb</th>\n",
       "    </tr>\n",
       "  </thead>\n",
       "  <tbody>\n",
       "    <tr>\n",
       "      <th>0</th>\n",
       "      <td>Pumuckl</td>\n",
       "      <td>GER</td>\n",
       "      <td>kobold</td>\n",
       "      <td>2.0000</td>\n",
       "      <td>1982</td>\n",
       "      <td>38</td>\n",
       "      <td>NaN</td>\n",
       "      <td>NaN</td>\n",
       "      <td>NaN</td>\n",
       "    </tr>\n",
       "    <tr>\n",
       "      <th>1</th>\n",
       "      <td>Tom</td>\n",
       "      <td>USA</td>\n",
       "      <td>cat</td>\n",
       "      <td>3.0000</td>\n",
       "      <td>1940</td>\n",
       "      <td>80</td>\n",
       "      <td>4.0000</td>\n",
       "      <td>4.0</td>\n",
       "      <td>8.80000</td>\n",
       "    </tr>\n",
       "    <tr>\n",
       "      <th>2</th>\n",
       "      <td>Jerry</td>\n",
       "      <td>USA</td>\n",
       "      <td>mouse</td>\n",
       "      <td>0.3000</td>\n",
       "      <td>1940</td>\n",
       "      <td>80</td>\n",
       "      <td>0.0200</td>\n",
       "      <td>4.0</td>\n",
       "      <td>0.04400</td>\n",
       "    </tr>\n",
       "    <tr>\n",
       "      <th>3</th>\n",
       "      <td>Mickey Mouse</td>\n",
       "      <td>USA</td>\n",
       "      <td>mouse</td>\n",
       "      <td>10.0000</td>\n",
       "      <td>1928</td>\n",
       "      <td>92</td>\n",
       "      <td>0.0200</td>\n",
       "      <td>4.0</td>\n",
       "      <td>0.04400</td>\n",
       "    </tr>\n",
       "    <tr>\n",
       "      <th>4</th>\n",
       "      <td>Asterix</td>\n",
       "      <td>FRA</td>\n",
       "      <td>human</td>\n",
       "      <td>58.0000</td>\n",
       "      <td>1959</td>\n",
       "      <td>61</td>\n",
       "      <td>62.0000</td>\n",
       "      <td>2.0</td>\n",
       "      <td>136.40000</td>\n",
       "    </tr>\n",
       "    <tr>\n",
       "      <th>5</th>\n",
       "      <td>Obelix</td>\n",
       "      <td>FRA</td>\n",
       "      <td>human</td>\n",
       "      <td>180.0000</td>\n",
       "      <td>1959</td>\n",
       "      <td>61</td>\n",
       "      <td>62.0000</td>\n",
       "      <td>2.0</td>\n",
       "      <td>136.40000</td>\n",
       "    </tr>\n",
       "    <tr>\n",
       "      <th>6</th>\n",
       "      <td>Hello Kitty</td>\n",
       "      <td>JPN</td>\n",
       "      <td>cat</td>\n",
       "      <td>0.7000</td>\n",
       "      <td>1974</td>\n",
       "      <td>46</td>\n",
       "      <td>4.0000</td>\n",
       "      <td>4.0</td>\n",
       "      <td>8.80000</td>\n",
       "    </tr>\n",
       "    <tr>\n",
       "      <th>7</th>\n",
       "      <td>Songoku</td>\n",
       "      <td>JPN</td>\n",
       "      <td>human</td>\n",
       "      <td>62.0000</td>\n",
       "      <td>1984</td>\n",
       "      <td>36</td>\n",
       "      <td>62.0000</td>\n",
       "      <td>2.0</td>\n",
       "      <td>136.40000</td>\n",
       "    </tr>\n",
       "    <tr>\n",
       "      <th>8</th>\n",
       "      <td>Maulwurf Krtek</td>\n",
       "      <td>CZE</td>\n",
       "      <td>mole</td>\n",
       "      <td>0.1000</td>\n",
       "      <td>1956</td>\n",
       "      <td>64</td>\n",
       "      <td>0.0900</td>\n",
       "      <td>4.0</td>\n",
       "      <td>0.19800</td>\n",
       "    </tr>\n",
       "    <tr>\n",
       "      <th>9</th>\n",
       "      <td>Tintin</td>\n",
       "      <td>BEL</td>\n",
       "      <td>human</td>\n",
       "      <td>54.0000</td>\n",
       "      <td>1929</td>\n",
       "      <td>91</td>\n",
       "      <td>62.0000</td>\n",
       "      <td>2.0</td>\n",
       "      <td>136.40000</td>\n",
       "    </tr>\n",
       "    <tr>\n",
       "      <th>10</th>\n",
       "      <td>Thomas</td>\n",
       "      <td>GBR</td>\n",
       "      <td>train</td>\n",
       "      <td>115000.0000</td>\n",
       "      <td>1984</td>\n",
       "      <td>36</td>\n",
       "      <td>200000.0000</td>\n",
       "      <td>0.0</td>\n",
       "      <td>440000.00000</td>\n",
       "    </tr>\n",
       "    <tr>\n",
       "      <th>11</th>\n",
       "      <td>Biene Maja</td>\n",
       "      <td>GER</td>\n",
       "      <td>bee</td>\n",
       "      <td>0.0001</td>\n",
       "      <td>1975</td>\n",
       "      <td>45</td>\n",
       "      <td>0.0001</td>\n",
       "      <td>6.0</td>\n",
       "      <td>0.00022</td>\n",
       "    </tr>\n",
       "    <tr>\n",
       "      <th>12</th>\n",
       "      <td>Gary</td>\n",
       "      <td>USA</td>\n",
       "      <td>snail</td>\n",
       "      <td>0.0500</td>\n",
       "      <td>1999</td>\n",
       "      <td>21</td>\n",
       "      <td>NaN</td>\n",
       "      <td>NaN</td>\n",
       "      <td>NaN</td>\n",
       "    </tr>\n",
       "    <tr>\n",
       "      <th>13</th>\n",
       "      <td>Babar</td>\n",
       "      <td>CAN</td>\n",
       "      <td>elephant</td>\n",
       "      <td>2000.0000</td>\n",
       "      <td>1989</td>\n",
       "      <td>31</td>\n",
       "      <td>3000.0000</td>\n",
       "      <td>4.0</td>\n",
       "      <td>6600.00000</td>\n",
       "    </tr>\n",
       "    <tr>\n",
       "      <th>14</th>\n",
       "      <td>Benjamin Blümchen</td>\n",
       "      <td>GER</td>\n",
       "      <td>elephant</td>\n",
       "      <td>800.0000</td>\n",
       "      <td>1988</td>\n",
       "      <td>32</td>\n",
       "      <td>3000.0000</td>\n",
       "      <td>4.0</td>\n",
       "      <td>6600.00000</td>\n",
       "    </tr>\n",
       "    <tr>\n",
       "      <th>15</th>\n",
       "      <td>Prinzessin Lillifee</td>\n",
       "      <td>GER</td>\n",
       "      <td>human</td>\n",
       "      <td>30.0000</td>\n",
       "      <td>2004</td>\n",
       "      <td>16</td>\n",
       "      <td>62.0000</td>\n",
       "      <td>2.0</td>\n",
       "      <td>136.40000</td>\n",
       "    </tr>\n",
       "  </tbody>\n",
       "</table>\n",
       "</div>"
      ],
      "text/plain": [
       "                   name country   species  weight_indiv  birthyear  age  \\\n",
       "0               Pumuckl     GER    kobold        2.0000       1982   38   \n",
       "1                   Tom     USA       cat        3.0000       1940   80   \n",
       "2                 Jerry     USA     mouse        0.3000       1940   80   \n",
       "3          Mickey Mouse     USA     mouse       10.0000       1928   92   \n",
       "4               Asterix     FRA     human       58.0000       1959   61   \n",
       "5                Obelix     FRA     human      180.0000       1959   61   \n",
       "6           Hello Kitty     JPN       cat        0.7000       1974   46   \n",
       "7               Songoku     JPN     human       62.0000       1984   36   \n",
       "8        Maulwurf Krtek     CZE      mole        0.1000       1956   64   \n",
       "9                Tintin     BEL     human       54.0000       1929   91   \n",
       "10               Thomas     GBR     train   115000.0000       1984   36   \n",
       "11           Biene Maja     GER       bee        0.0001       1975   45   \n",
       "12                 Gary     USA     snail        0.0500       1999   21   \n",
       "13                Babar     CAN  elephant     2000.0000       1989   31   \n",
       "14    Benjamin Blümchen     GER  elephant      800.0000       1988   32   \n",
       "15  Prinzessin Lillifee     GER     human       30.0000       2004   16   \n",
       "\n",
       "    weight_species  legs  weight_in_lb  \n",
       "0              NaN   NaN           NaN  \n",
       "1           4.0000   4.0       8.80000  \n",
       "2           0.0200   4.0       0.04400  \n",
       "3           0.0200   4.0       0.04400  \n",
       "4          62.0000   2.0     136.40000  \n",
       "5          62.0000   2.0     136.40000  \n",
       "6           4.0000   4.0       8.80000  \n",
       "7          62.0000   2.0     136.40000  \n",
       "8           0.0900   4.0       0.19800  \n",
       "9          62.0000   2.0     136.40000  \n",
       "10     200000.0000   0.0  440000.00000  \n",
       "11          0.0001   6.0       0.00022  \n",
       "12             NaN   NaN           NaN  \n",
       "13       3000.0000   4.0    6600.00000  \n",
       "14       3000.0000   4.0    6600.00000  \n",
       "15         62.0000   2.0     136.40000  "
      ]
     },
     "execution_count": 31,
     "metadata": {},
     "output_type": "execute_result"
    }
   ],
   "source": [
    "# Pumuckl and Gary are missing, they have no species entry in df_species\n",
    "dfm = df.merge(df_species, on='species', suffixes=['_indiv', '_species'], how='left')\n",
    "dfm"
   ]
  },
  {
   "cell_type": "markdown",
   "metadata": {},
   "source": [
    "* Compute the characters' relative weight as a ratio of the typical weight of their species, and add it as a new column `rel_weight`.\n",
    "\n",
    "Of course you won't be able to calculate that for characters whose species data wasn't available. But that's okay, `pandas` can handle operations with missing values wisely."
   ]
  },
  {
   "cell_type": "code",
   "execution_count": 32,
   "metadata": {},
   "outputs": [
    {
     "data": {
      "text/html": [
       "<div>\n",
       "<style scoped>\n",
       "    .dataframe tbody tr th:only-of-type {\n",
       "        vertical-align: middle;\n",
       "    }\n",
       "\n",
       "    .dataframe tbody tr th {\n",
       "        vertical-align: top;\n",
       "    }\n",
       "\n",
       "    .dataframe thead th {\n",
       "        text-align: right;\n",
       "    }\n",
       "</style>\n",
       "<table border=\"1\" class=\"dataframe\">\n",
       "  <thead>\n",
       "    <tr style=\"text-align: right;\">\n",
       "      <th></th>\n",
       "      <th>name</th>\n",
       "      <th>country</th>\n",
       "      <th>species</th>\n",
       "      <th>weight_indiv</th>\n",
       "      <th>birthyear</th>\n",
       "      <th>age</th>\n",
       "      <th>weight_species</th>\n",
       "      <th>legs</th>\n",
       "      <th>weight_in_lb</th>\n",
       "      <th>rel_weight</th>\n",
       "    </tr>\n",
       "  </thead>\n",
       "  <tbody>\n",
       "    <tr>\n",
       "      <th>0</th>\n",
       "      <td>Pumuckl</td>\n",
       "      <td>GER</td>\n",
       "      <td>kobold</td>\n",
       "      <td>2.0000</td>\n",
       "      <td>1982</td>\n",
       "      <td>38</td>\n",
       "      <td>NaN</td>\n",
       "      <td>NaN</td>\n",
       "      <td>NaN</td>\n",
       "      <td>NaN</td>\n",
       "    </tr>\n",
       "    <tr>\n",
       "      <th>1</th>\n",
       "      <td>Tom</td>\n",
       "      <td>USA</td>\n",
       "      <td>cat</td>\n",
       "      <td>3.0000</td>\n",
       "      <td>1940</td>\n",
       "      <td>80</td>\n",
       "      <td>4.0000</td>\n",
       "      <td>4.0</td>\n",
       "      <td>8.80000</td>\n",
       "      <td>75.000000</td>\n",
       "    </tr>\n",
       "    <tr>\n",
       "      <th>2</th>\n",
       "      <td>Jerry</td>\n",
       "      <td>USA</td>\n",
       "      <td>mouse</td>\n",
       "      <td>0.3000</td>\n",
       "      <td>1940</td>\n",
       "      <td>80</td>\n",
       "      <td>0.0200</td>\n",
       "      <td>4.0</td>\n",
       "      <td>0.04400</td>\n",
       "      <td>1500.000000</td>\n",
       "    </tr>\n",
       "    <tr>\n",
       "      <th>3</th>\n",
       "      <td>Mickey Mouse</td>\n",
       "      <td>USA</td>\n",
       "      <td>mouse</td>\n",
       "      <td>10.0000</td>\n",
       "      <td>1928</td>\n",
       "      <td>92</td>\n",
       "      <td>0.0200</td>\n",
       "      <td>4.0</td>\n",
       "      <td>0.04400</td>\n",
       "      <td>50000.000000</td>\n",
       "    </tr>\n",
       "    <tr>\n",
       "      <th>4</th>\n",
       "      <td>Asterix</td>\n",
       "      <td>FRA</td>\n",
       "      <td>human</td>\n",
       "      <td>58.0000</td>\n",
       "      <td>1959</td>\n",
       "      <td>61</td>\n",
       "      <td>62.0000</td>\n",
       "      <td>2.0</td>\n",
       "      <td>136.40000</td>\n",
       "      <td>93.548387</td>\n",
       "    </tr>\n",
       "    <tr>\n",
       "      <th>5</th>\n",
       "      <td>Obelix</td>\n",
       "      <td>FRA</td>\n",
       "      <td>human</td>\n",
       "      <td>180.0000</td>\n",
       "      <td>1959</td>\n",
       "      <td>61</td>\n",
       "      <td>62.0000</td>\n",
       "      <td>2.0</td>\n",
       "      <td>136.40000</td>\n",
       "      <td>290.322581</td>\n",
       "    </tr>\n",
       "    <tr>\n",
       "      <th>6</th>\n",
       "      <td>Hello Kitty</td>\n",
       "      <td>JPN</td>\n",
       "      <td>cat</td>\n",
       "      <td>0.7000</td>\n",
       "      <td>1974</td>\n",
       "      <td>46</td>\n",
       "      <td>4.0000</td>\n",
       "      <td>4.0</td>\n",
       "      <td>8.80000</td>\n",
       "      <td>17.500000</td>\n",
       "    </tr>\n",
       "    <tr>\n",
       "      <th>7</th>\n",
       "      <td>Songoku</td>\n",
       "      <td>JPN</td>\n",
       "      <td>human</td>\n",
       "      <td>62.0000</td>\n",
       "      <td>1984</td>\n",
       "      <td>36</td>\n",
       "      <td>62.0000</td>\n",
       "      <td>2.0</td>\n",
       "      <td>136.40000</td>\n",
       "      <td>100.000000</td>\n",
       "    </tr>\n",
       "    <tr>\n",
       "      <th>8</th>\n",
       "      <td>Maulwurf Krtek</td>\n",
       "      <td>CZE</td>\n",
       "      <td>mole</td>\n",
       "      <td>0.1000</td>\n",
       "      <td>1956</td>\n",
       "      <td>64</td>\n",
       "      <td>0.0900</td>\n",
       "      <td>4.0</td>\n",
       "      <td>0.19800</td>\n",
       "      <td>111.111111</td>\n",
       "    </tr>\n",
       "    <tr>\n",
       "      <th>9</th>\n",
       "      <td>Tintin</td>\n",
       "      <td>BEL</td>\n",
       "      <td>human</td>\n",
       "      <td>54.0000</td>\n",
       "      <td>1929</td>\n",
       "      <td>91</td>\n",
       "      <td>62.0000</td>\n",
       "      <td>2.0</td>\n",
       "      <td>136.40000</td>\n",
       "      <td>87.096774</td>\n",
       "    </tr>\n",
       "    <tr>\n",
       "      <th>10</th>\n",
       "      <td>Thomas</td>\n",
       "      <td>GBR</td>\n",
       "      <td>train</td>\n",
       "      <td>115000.0000</td>\n",
       "      <td>1984</td>\n",
       "      <td>36</td>\n",
       "      <td>200000.0000</td>\n",
       "      <td>0.0</td>\n",
       "      <td>440000.00000</td>\n",
       "      <td>57.500000</td>\n",
       "    </tr>\n",
       "    <tr>\n",
       "      <th>11</th>\n",
       "      <td>Biene Maja</td>\n",
       "      <td>GER</td>\n",
       "      <td>bee</td>\n",
       "      <td>0.0001</td>\n",
       "      <td>1975</td>\n",
       "      <td>45</td>\n",
       "      <td>0.0001</td>\n",
       "      <td>6.0</td>\n",
       "      <td>0.00022</td>\n",
       "      <td>100.000000</td>\n",
       "    </tr>\n",
       "    <tr>\n",
       "      <th>12</th>\n",
       "      <td>Gary</td>\n",
       "      <td>USA</td>\n",
       "      <td>snail</td>\n",
       "      <td>0.0500</td>\n",
       "      <td>1999</td>\n",
       "      <td>21</td>\n",
       "      <td>NaN</td>\n",
       "      <td>NaN</td>\n",
       "      <td>NaN</td>\n",
       "      <td>NaN</td>\n",
       "    </tr>\n",
       "    <tr>\n",
       "      <th>13</th>\n",
       "      <td>Babar</td>\n",
       "      <td>CAN</td>\n",
       "      <td>elephant</td>\n",
       "      <td>2000.0000</td>\n",
       "      <td>1989</td>\n",
       "      <td>31</td>\n",
       "      <td>3000.0000</td>\n",
       "      <td>4.0</td>\n",
       "      <td>6600.00000</td>\n",
       "      <td>66.666667</td>\n",
       "    </tr>\n",
       "    <tr>\n",
       "      <th>14</th>\n",
       "      <td>Benjamin Blümchen</td>\n",
       "      <td>GER</td>\n",
       "      <td>elephant</td>\n",
       "      <td>800.0000</td>\n",
       "      <td>1988</td>\n",
       "      <td>32</td>\n",
       "      <td>3000.0000</td>\n",
       "      <td>4.0</td>\n",
       "      <td>6600.00000</td>\n",
       "      <td>26.666667</td>\n",
       "    </tr>\n",
       "    <tr>\n",
       "      <th>15</th>\n",
       "      <td>Prinzessin Lillifee</td>\n",
       "      <td>GER</td>\n",
       "      <td>human</td>\n",
       "      <td>30.0000</td>\n",
       "      <td>2004</td>\n",
       "      <td>16</td>\n",
       "      <td>62.0000</td>\n",
       "      <td>2.0</td>\n",
       "      <td>136.40000</td>\n",
       "      <td>48.387097</td>\n",
       "    </tr>\n",
       "  </tbody>\n",
       "</table>\n",
       "</div>"
      ],
      "text/plain": [
       "                   name country   species  weight_indiv  birthyear  age  \\\n",
       "0               Pumuckl     GER    kobold        2.0000       1982   38   \n",
       "1                   Tom     USA       cat        3.0000       1940   80   \n",
       "2                 Jerry     USA     mouse        0.3000       1940   80   \n",
       "3          Mickey Mouse     USA     mouse       10.0000       1928   92   \n",
       "4               Asterix     FRA     human       58.0000       1959   61   \n",
       "5                Obelix     FRA     human      180.0000       1959   61   \n",
       "6           Hello Kitty     JPN       cat        0.7000       1974   46   \n",
       "7               Songoku     JPN     human       62.0000       1984   36   \n",
       "8        Maulwurf Krtek     CZE      mole        0.1000       1956   64   \n",
       "9                Tintin     BEL     human       54.0000       1929   91   \n",
       "10               Thomas     GBR     train   115000.0000       1984   36   \n",
       "11           Biene Maja     GER       bee        0.0001       1975   45   \n",
       "12                 Gary     USA     snail        0.0500       1999   21   \n",
       "13                Babar     CAN  elephant     2000.0000       1989   31   \n",
       "14    Benjamin Blümchen     GER  elephant      800.0000       1988   32   \n",
       "15  Prinzessin Lillifee     GER     human       30.0000       2004   16   \n",
       "\n",
       "    weight_species  legs  weight_in_lb    rel_weight  \n",
       "0              NaN   NaN           NaN           NaN  \n",
       "1           4.0000   4.0       8.80000     75.000000  \n",
       "2           0.0200   4.0       0.04400   1500.000000  \n",
       "3           0.0200   4.0       0.04400  50000.000000  \n",
       "4          62.0000   2.0     136.40000     93.548387  \n",
       "5          62.0000   2.0     136.40000    290.322581  \n",
       "6           4.0000   4.0       8.80000     17.500000  \n",
       "7          62.0000   2.0     136.40000    100.000000  \n",
       "8           0.0900   4.0       0.19800    111.111111  \n",
       "9          62.0000   2.0     136.40000     87.096774  \n",
       "10     200000.0000   0.0  440000.00000     57.500000  \n",
       "11          0.0001   6.0       0.00022    100.000000  \n",
       "12             NaN   NaN           NaN           NaN  \n",
       "13       3000.0000   4.0    6600.00000     66.666667  \n",
       "14       3000.0000   4.0    6600.00000     26.666667  \n",
       "15         62.0000   2.0     136.40000     48.387097  "
      ]
     },
     "execution_count": 32,
     "metadata": {},
     "output_type": "execute_result"
    }
   ],
   "source": [
    "dfm['rel_weight'] = dfm['weight_indiv'] / dfm['weight_species'] * 100\n",
    "dfm"
   ]
  },
  {
   "cell_type": "markdown",
   "metadata": {},
   "source": [
    "Now let's answer some queries based on the characters' countries of origin:\n",
    "* How many characters are there from each continent?\n",
    "* Which character comes from the smallest country?\n",
    "\n",
    "For this you have to merge `df` and `df_countries` (let's call the result `dfm2`). There's one little issue: the shared key is labelled differently in the two DataFrames. Thankfully the `merge` function/method allows you to specify them independently for the left and right DataFrame if necessary."
   ]
  },
  {
   "cell_type": "code",
   "execution_count": 33,
   "metadata": {},
   "outputs": [
    {
     "data": {
      "text/plain": [
       "continent\n",
       "America    5\n",
       "Asia       2\n",
       "Europe     9\n",
       "dtype: int64"
      ]
     },
     "execution_count": 33,
     "metadata": {},
     "output_type": "execute_result"
    }
   ],
   "source": [
    "dfm2 = df.merge(df_countries, left_on='country', right_on='code')\n",
    "# Warning: If they do it the other way around, the country code column will be named \"code\" instead of \"country\"\n",
    "dfm2.groupby('continent').size()"
   ]
  },
  {
   "cell_type": "code",
   "execution_count": 34,
   "metadata": {},
   "outputs": [
    {
     "data": {
      "text/html": [
       "<div>\n",
       "<style scoped>\n",
       "    .dataframe tbody tr th:only-of-type {\n",
       "        vertical-align: middle;\n",
       "    }\n",
       "\n",
       "    .dataframe tbody tr th {\n",
       "        vertical-align: top;\n",
       "    }\n",
       "\n",
       "    .dataframe thead th {\n",
       "        text-align: right;\n",
       "    }\n",
       "</style>\n",
       "<table border=\"1\" class=\"dataframe\">\n",
       "  <thead>\n",
       "    <tr style=\"text-align: right;\">\n",
       "      <th></th>\n",
       "      <th>name</th>\n",
       "      <th>country</th>\n",
       "      <th>species</th>\n",
       "      <th>weight</th>\n",
       "      <th>birthyear</th>\n",
       "      <th>age</th>\n",
       "      <th>code</th>\n",
       "      <th>country_name</th>\n",
       "      <th>continent</th>\n",
       "      <th>population</th>\n",
       "    </tr>\n",
       "  </thead>\n",
       "  <tbody>\n",
       "    <tr>\n",
       "      <th>12</th>\n",
       "      <td>Maulwurf Krtek</td>\n",
       "      <td>CZE</td>\n",
       "      <td>mole</td>\n",
       "      <td>0.1</td>\n",
       "      <td>1956</td>\n",
       "      <td>64</td>\n",
       "      <td>CZE</td>\n",
       "      <td>Czech Republic</td>\n",
       "      <td>Europe</td>\n",
       "      <td>10.5</td>\n",
       "    </tr>\n",
       "  </tbody>\n",
       "</table>\n",
       "</div>"
      ],
      "text/plain": [
       "              name country species  weight  birthyear  age code  \\\n",
       "12  Maulwurf Krtek     CZE    mole     0.1       1956   64  CZE   \n",
       "\n",
       "      country_name continent  population  \n",
       "12  Czech Republic    Europe        10.5  "
      ]
     },
     "execution_count": 34,
     "metadata": {},
     "output_type": "execute_result"
    }
   ],
   "source": [
    "dfm2.sort_values('population').iloc[0]\n",
    "\n",
    "# OR\n",
    "\n",
    "dfm2.loc[dfm2.population == dfm2.population.min()]"
   ]
  },
  {
   "cell_type": "markdown",
   "metadata": {},
   "source": [
    "And finally, a question that requires information from all three DataFrames:\n",
    "\n",
    "* Who is the most overweight European character?\n",
    "\n",
    "You can't directly merge three DataFrames with a single operation, but you can merge `dfm` with `df_countries` easily enough. Let's call this resulting \"mega-merge\" as `df_all`."
   ]
  },
  {
   "cell_type": "code",
   "execution_count": 35,
   "metadata": {},
   "outputs": [
    {
     "data": {
      "text/plain": [
       "name               Obelix\n",
       "country               FRA\n",
       "species             human\n",
       "weight_indiv          180\n",
       "birthyear            1959\n",
       "age                    61\n",
       "weight_species         62\n",
       "legs                    2\n",
       "weight_in_lb        136.4\n",
       "rel_weight        290.323\n",
       "code                  FRA\n",
       "country_name       France\n",
       "continent          Europe\n",
       "population             67\n",
       "Name: 5, dtype: object"
      ]
     },
     "execution_count": 35,
     "metadata": {},
     "output_type": "execute_result"
    }
   ],
   "source": [
    "df_all = dfm.merge(df_countries, left_on='country', right_on='code', how='left')\n",
    "df_all.loc[df_all['continent']=='Europe'].sort_values('rel_weight', ascending=False).iloc[0]\n",
    "\n",
    "# OR\n",
    "\n",
    "df_eu = df_all.loc[df_all.continent=='Europe']\n",
    "df_eu.loc[df_eu.rel_weight.idxmax()]"
   ]
  },
  {
   "cell_type": "markdown",
   "metadata": {},
   "source": [
    "### Group filtering\n",
    "\n",
    "You can either continue working with `df` or `df_all`, it won't matter for the next task:\n",
    "\n",
    "* List characters that are the sole entries of their country\n",
    "\n",
    "To answer this question, you can use the `filter` method of `GroupBy` objects. It is similar to the aggregation methods like `mean`, `size` or `first` that we had used before, but instead of returning a single row per group, it either returns all rows of the group or none of them.\n",
    "\n",
    "It expects a simple function as an argument. The function's input will be a DataFrame containing all rows of a group, and it should return a boolean `True/False` value. If the returned value is `True`, the group will be kept, otherwise it will be discarded.\n",
    "\n",
    "Of course you can experiment with alternative solutions too!"
   ]
  },
  {
   "cell_type": "code",
   "execution_count": 36,
   "metadata": {},
   "outputs": [
    {
     "data": {
      "text/html": [
       "<div>\n",
       "<style scoped>\n",
       "    .dataframe tbody tr th:only-of-type {\n",
       "        vertical-align: middle;\n",
       "    }\n",
       "\n",
       "    .dataframe tbody tr th {\n",
       "        vertical-align: top;\n",
       "    }\n",
       "\n",
       "    .dataframe thead th {\n",
       "        text-align: right;\n",
       "    }\n",
       "</style>\n",
       "<table border=\"1\" class=\"dataframe\">\n",
       "  <thead>\n",
       "    <tr style=\"text-align: right;\">\n",
       "      <th></th>\n",
       "      <th>name</th>\n",
       "      <th>country</th>\n",
       "      <th>species</th>\n",
       "      <th>weight</th>\n",
       "      <th>birthyear</th>\n",
       "      <th>age</th>\n",
       "    </tr>\n",
       "  </thead>\n",
       "  <tbody>\n",
       "    <tr>\n",
       "      <th>8</th>\n",
       "      <td>Maulwurf Krtek</td>\n",
       "      <td>CZE</td>\n",
       "      <td>mole</td>\n",
       "      <td>0.1</td>\n",
       "      <td>1956</td>\n",
       "      <td>64</td>\n",
       "    </tr>\n",
       "    <tr>\n",
       "      <th>9</th>\n",
       "      <td>Tintin</td>\n",
       "      <td>BEL</td>\n",
       "      <td>human</td>\n",
       "      <td>54.0</td>\n",
       "      <td>1929</td>\n",
       "      <td>91</td>\n",
       "    </tr>\n",
       "    <tr>\n",
       "      <th>10</th>\n",
       "      <td>Thomas</td>\n",
       "      <td>GBR</td>\n",
       "      <td>train</td>\n",
       "      <td>115000.0</td>\n",
       "      <td>1984</td>\n",
       "      <td>36</td>\n",
       "    </tr>\n",
       "    <tr>\n",
       "      <th>13</th>\n",
       "      <td>Babar</td>\n",
       "      <td>CAN</td>\n",
       "      <td>elephant</td>\n",
       "      <td>2000.0</td>\n",
       "      <td>1989</td>\n",
       "      <td>31</td>\n",
       "    </tr>\n",
       "  </tbody>\n",
       "</table>\n",
       "</div>"
      ],
      "text/plain": [
       "              name country   species    weight  birthyear  age\n",
       "8   Maulwurf Krtek     CZE      mole       0.1       1956   64\n",
       "9           Tintin     BEL     human      54.0       1929   91\n",
       "10          Thomas     GBR     train  115000.0       1984   36\n",
       "13           Babar     CAN  elephant    2000.0       1989   31"
      ]
     },
     "execution_count": 36,
     "metadata": {},
     "output_type": "execute_result"
    }
   ],
   "source": [
    "df.groupby('country').filter(lambda x: len(x)==1)\n",
    "\n",
    "# non-filter solutions:\n",
    "df.drop_duplicates(subset='country', keep=False)\n",
    "\n",
    "# ugly but logical:\n",
    "chars_per_country = df.groupby('country').size()\n",
    "countries_w_1 = [country for country, numchars in chars_per_country.items() if numchars==1]\n",
    "df.loc[df['country'].isin(countries_w_1)]"
   ]
  },
  {
   "cell_type": "markdown",
   "metadata": {},
   "source": [
    "### Grouping using derived keys\n",
    "\n",
    "* Count characters by decade of birth -- without inserting a new column!\n",
    "\n",
    "So far, we have always used a column label as `groupby`'s argument. If we wanted to group rows based on data that isn't explicitly contained in the DataFrame, we would've had to insert a new column with the data, and group by that new column.\n",
    "\n",
    "Thankfully, `groupby` also accepts a `Series` object as an argument, and group the DataFrame according to the values of that Series, without having to insert that Series into the DataFrame.\n",
    "\n",
    "Hint: you can round a number down to the nearest ten with the full division operator by `x // 10 * 10`."
   ]
  },
  {
   "cell_type": "code",
   "execution_count": 37,
   "metadata": {},
   "outputs": [
    {
     "data": {
      "text/plain": [
       "birthyear\n",
       "1920    2\n",
       "1940    2\n",
       "1950    3\n",
       "1970    2\n",
       "1980    5\n",
       "1990    1\n",
       "2000    1\n",
       "dtype: int64"
      ]
     },
     "execution_count": 37,
     "metadata": {},
     "output_type": "execute_result"
    }
   ],
   "source": [
    "df.groupby(df.birthyear // 10 * 10).size()"
   ]
  },
  {
   "cell_type": "markdown",
   "metadata": {},
   "source": [
    "## Data export\n",
    "\n",
    "Export `df_all` into `characters_merged.tsv` in tab-separated format with question marks in place of N/A values, and omit the index column."
   ]
  },
  {
   "cell_type": "code",
   "execution_count": 38,
   "metadata": {},
   "outputs": [],
   "source": [
    "df_all.to_csv('characters_merged.tsv', sep='\\t', index=False, na_rep='?')"
   ]
  }
 ],
 "metadata": {
  "anaconda-cloud": {},
  "hide_input": false,
  "kernelspec": {
   "display_name": "Python 3",
   "language": "python",
   "name": "python3"
  },
  "language_info": {
   "codemirror_mode": {
    "name": "ipython",
    "version": 3
   },
   "file_extension": ".py",
   "mimetype": "text/x-python",
   "name": "python",
   "nbconvert_exporter": "python",
   "pygments_lexer": "ipython3",
   "version": "3.7.4"
  },
  "toc": {
   "toc_cell": true,
   "toc_number_sections": true,
   "toc_threshold": 6,
   "toc_window_display": false
  }
 },
 "nbformat": 4,
 "nbformat_minor": 1
}
